{
 "cells": [
  {
   "cell_type": "markdown",
   "metadata": {},
   "source": [
    "## IMPORTATION DES LIBRAIRIES ET VERIFICATION DE DEMARRAGE"
   ]
  },
  {
   "cell_type": "markdown",
   "metadata": {},
   "source": [
    "Parametrage des variables d'environnement"
   ]
  },
  {
   "cell_type": "code",
   "execution_count": null,
   "metadata": {},
   "outputs": [],
   "source": []
  },
  {
   "cell_type": "markdown",
   "metadata": {},
   "source": [
    "Importation des packages Python et démarrage d'une session Spark en local"
   ]
  },
  {
   "cell_type": "code",
   "execution_count": 169,
   "metadata": {},
   "outputs": [],
   "source": [
    "from pyspark import SparkContext, SparkConf\n",
    "conf = SparkConf().setAppName('TP3').setMaster('local')\n",
    "sc = SparkContext.getOrCreate(conf = conf)\n",
    "\n",
    "import pyspark.sql.functions as psf\n",
    "import pandas as pd"
   ]
  },
  {
   "cell_type": "markdown",
   "metadata": {},
   "source": [
    "Verification de la version de Spark et du nom de l'application"
   ]
  },
  {
   "cell_type": "code",
   "execution_count": 42,
   "metadata": {},
   "outputs": [
    {
     "name": "stdout",
     "output_type": "stream",
     "text": [
      "3.0.1\n",
      "PySparkShell\n"
     ]
    }
   ],
   "source": [
    "print(spark.version)\n",
    "print(sc.appName)"
   ]
  },
  {
   "cell_type": "markdown",
   "metadata": {},
   "source": [
    "## IMPORT DU JEU DE DONNEES"
   ]
  },
  {
   "cell_type": "markdown",
   "metadata": {},
   "source": [
    "## Indiquer le dossier et le fichier cible"
   ]
  },
  {
   "cell_type": "code",
   "execution_count": 43,
   "metadata": {},
   "outputs": [],
   "source": [
    "dossier = \"C:/Tran_Nam_Mai/Github Profile/Apache-Spark-Big-Data-Processing/Data/\"\n",
    "fichier = dossier + \"Infections.txt\""
   ]
  },
  {
   "cell_type": "markdown",
   "metadata": {},
   "source": [
    "## Importer les jeux de donnees \n",
    "Prediction de maladies sur un jeu de donnees de maladies aux Etats-Unis"
   ]
  },
  {
   "cell_type": "markdown",
   "metadata": {},
   "source": [
    "Importation depuis le fichier texte 'Infections.txt'"
   ]
  },
  {
   "cell_type": "code",
   "execution_count": 60,
   "metadata": {},
   "outputs": [],
   "source": [
    "data_spark = spark.read.text(fichier)"
   ]
  },
  {
   "cell_type": "markdown",
   "metadata": {},
   "source": [
    "## PREPARATION/NETTOYAGE DU JEU DE DONNEES"
   ]
  },
  {
   "cell_type": "markdown",
   "metadata": {},
   "source": [
    "## Preparer les donnees"
   ]
  },
  {
   "cell_type": "markdown",
   "metadata": {},
   "source": [
    "Afficher la taille du jeu de donnees initial (nombre de lignes et colonnes)"
   ]
  },
  {
   "cell_type": "code",
   "execution_count": 69,
   "metadata": {},
   "outputs": [
    {
     "name": "stdout",
     "output_type": "stream",
     "text": [
      "222625\n",
      "1\n"
     ]
    }
   ],
   "source": [
    "print(data_spark.count())\n",
    "print(len(data_spark.columns))"
   ]
  },
  {
   "cell_type": "markdown",
   "metadata": {},
   "source": [
    "Afficher les 3 premières lignes du jeu de donnees (entieres, non abregees)"
   ]
  },
  {
   "cell_type": "code",
   "execution_count": 80,
   "metadata": {},
   "outputs": [
    {
     "data": {
      "text/plain": [
       "[Row(value='ProviderID\\tHospitalName\\tAddress\\tCity\\tState\\tZIPCode\\tCountyName\\tPhoneNumber\\tMeasureName\\tMeasureID\\tComparedToNationalScore\\tFootnote'),\n",
       " Row(value='10001\\tSOUTHEAST ALABAMA MEDICAL CENTER\\t1108 ROSS CLARK CIRCLE\\tDOTHAN\\tAL\\t36301\\tHOUSTON\\t3347938701\\tCLABSI: Lower Confidence Limit\\tHAI_1_CI_LOWER\\tNo Different than National Benchmark\\t0.313'),\n",
       " Row(value='10001\\tSOUTHEAST ALABAMA MEDICAL CENTER\\t1108 ROSS CLARK CIRCLE\\tDOTHAN\\tAL\\t36301\\tHOUSTON\\t3347938701\\tCLABSI: Upper Confidence Limit\\tHAI_1_CI_UPPER\\tNo Different than National Benchmark\\t3.348')]"
      ]
     },
     "execution_count": 80,
     "metadata": {},
     "output_type": "execute_result"
    }
   ],
   "source": [
    "data_spark.head(3)"
   ]
  },
  {
   "cell_type": "code",
   "execution_count": 81,
   "metadata": {},
   "outputs": [
    {
     "data": {
      "text/plain": [
       "['value']"
      ]
     },
     "execution_count": 81,
     "metadata": {},
     "output_type": "execute_result"
    }
   ],
   "source": [
    "data_spark.columns"
   ]
  },
  {
   "cell_type": "markdown",
   "metadata": {},
   "source": [
    "Creer un nouveau jeu de donnees en extrayant de la chaine de caracteres les variables 'Hopital' (variable d'indice 1), 'Ville' (indice 3), 'Etat' (indice 4), 'NomMesure' (indice 8), 'IDMesure' (indice 9), 'Comparaison' (indice 10), 'Score' (indice 11)"
   ]
  },
  {
   "cell_type": "code",
   "execution_count": 225,
   "metadata": {},
   "outputs": [],
   "source": [
    "split_col = psf.split(data_spark['value'], '\\t')\n",
    "data = data_spark.withColumn('Hopital', split_col.getItem(1))\n",
    "data = data.withColumn('Ville', split_col.getItem(3))\n",
    "data = data.withColumn('Etat', split_col.getItem(4))\n",
    "data = data.withColumn('NomMesure', split_col.getItem(8))\n",
    "data = data.withColumn('IDMesure', split_col.getItem(9))\n",
    "data = data.withColumn('Comparaison', split_col.getItem(10))\n",
    "data = data.withColumn('Score', split_col.getItem(11))\n",
    "\n",
    "# NB: cette question n'est pas simple. Si vous êtes bloqués, vous pouvez directement importer le Spark Dataframe\n",
    "# depuis le fichier CSV 'Infections.csv\" avec la fonction 'read.df()'"
   ]
  },
  {
   "cell_type": "markdown",
   "metadata": {},
   "source": [
    "## Nettoyer les donnees"
   ]
  },
  {
   "cell_type": "markdown",
   "metadata": {},
   "source": [
    "Enlever la colonne 'value', les valeurs incorrectes (premiere ligne) ou manquantes (si pertinent). Nous sommes interesses par la variable 'Score' en premier lieu"
   ]
  },
  {
   "cell_type": "code",
   "execution_count": 226,
   "metadata": {},
   "outputs": [],
   "source": [
    "data = data.drop(\"value\")"
   ]
  },
  {
   "cell_type": "code",
   "execution_count": 227,
   "metadata": {},
   "outputs": [],
   "source": [
    "temp_value = data.first()[0]\n",
    "data = data.filter(data[\"Hopital\"] != temp_value)"
   ]
  },
  {
   "cell_type": "code",
   "execution_count": 228,
   "metadata": {},
   "outputs": [
    {
     "name": "stdout",
     "output_type": "stream",
     "text": [
      "96402\n",
      "7\n"
     ]
    }
   ],
   "source": [
    "data = data.na.drop()\n",
    "data = data.filter(data[\"Comparaison\"] != \"Not Available\")\n",
    "print(data.count())\n",
    "print(len(data.columns))"
   ]
  },
  {
   "cell_type": "code",
   "execution_count": 132,
   "metadata": {},
   "outputs": [],
   "source": [
    "# Nombre de lignes: 96402\n",
    "# Nombre de colonnes: 7"
   ]
  },
  {
   "cell_type": "code",
   "execution_count": 230,
   "metadata": {},
   "outputs": [
    {
     "data": {
      "text/plain": [
       "3"
      ]
     },
     "execution_count": 230,
     "metadata": {},
     "output_type": "execute_result"
    }
   ],
   "source": [
    "len(data.select('Comparaison').distinct().collect())\n",
    "# Le nombre de valeurs distincts de \"Comparaison\" est 3"
   ]
  },
  {
   "cell_type": "code",
   "execution_count": 231,
   "metadata": {},
   "outputs": [
    {
     "data": {
      "text/plain": [
       "3130"
      ]
     },
     "execution_count": 231,
     "metadata": {},
     "output_type": "execute_result"
    }
   ],
   "source": [
    "len(data.select('Hopital').distinct().collect())\n",
    "# Le nombre de valeurs distincts de \"Hopital\" est 3130"
   ]
  },
  {
   "cell_type": "code",
   "execution_count": 232,
   "metadata": {},
   "outputs": [
    {
     "data": {
      "text/plain": [
       "48"
      ]
     },
     "execution_count": 232,
     "metadata": {},
     "output_type": "execute_result"
    }
   ],
   "source": [
    "len(data.select('IDMesure').distinct().collect())\n",
    "# Le nombre de valeurs distincts de \"IDMesure\" est 48"
   ]
  },
  {
   "cell_type": "code",
   "execution_count": 233,
   "metadata": {},
   "outputs": [
    {
     "name": "stdout",
     "output_type": "stream",
     "text": [
      "root\n",
      " |-- Hopital: string (nullable = true)\n",
      " |-- Ville: string (nullable = true)\n",
      " |-- Etat: string (nullable = true)\n",
      " |-- NomMesure: string (nullable = true)\n",
      " |-- IDMesure: string (nullable = true)\n",
      " |-- Comparaison: string (nullable = true)\n",
      " |-- Score: string (nullable = true)\n",
      "\n"
     ]
    }
   ],
   "source": [
    "data.printSchema()"
   ]
  },
  {
   "cell_type": "markdown",
   "metadata": {},
   "source": [
    "Modifier le Schema de telle sorte a avoir la variable 'Score' comme numerique"
   ]
  },
  {
   "cell_type": "code",
   "execution_count": 234,
   "metadata": {},
   "outputs": [
    {
     "name": "stdout",
     "output_type": "stream",
     "text": [
      "root\n",
      " |-- Hopital: string (nullable = true)\n",
      " |-- Ville: string (nullable = true)\n",
      " |-- Etat: string (nullable = true)\n",
      " |-- NomMesure: string (nullable = true)\n",
      " |-- IDMesure: string (nullable = true)\n",
      " |-- Comparaison: string (nullable = true)\n",
      " |-- Score: decimal(10,0) (nullable = true)\n",
      "\n"
     ]
    }
   ],
   "source": [
    "data = data.withColumn(\"Score\", data[\"Score\"].cast(\"numeric\"))\n",
    "data.printSchema()"
   ]
  },
  {
   "cell_type": "markdown",
   "metadata": {},
   "source": [
    "## Description des donnees"
   ]
  },
  {
   "cell_type": "markdown",
   "metadata": {},
   "source": [
    "Obtenir les caracteristiques statistiques de base des variables"
   ]
  },
  {
   "cell_type": "code",
   "execution_count": 235,
   "metadata": {},
   "outputs": [
    {
     "name": "stdout",
     "output_type": "stream",
     "text": [
      "+-------+--------------------+---------+-----+--------------------+--------------+--------------------+-----------------+\n",
      "|summary|             Hopital|    Ville| Etat|           NomMesure|      IDMesure|         Comparaison|            Score|\n",
      "+-------+--------------------+---------+-----+--------------------+--------------+--------------------+-----------------+\n",
      "|  count|               96402|    96402|96402|               96402|         96402|               96402|            93100|\n",
      "|   mean|                null|     null| null|                null|          null|                null|        3427.2101|\n",
      "| stddev|                null|     null| null|                null|          null|                null|18653.38270182185|\n",
      "|    min| HIMA SAN PABLO B...|ABBEVILLE|   AK|\"\"\"SSI: Abdominal...|HAI_1_CI_LOWER|Better than the N...|                0|\n",
      "|    max|YUMA REGIONAL MED...|     ZION|   WY|Surgical Site Inf...|     HAI_6_SIR|Worse than the Na...|           698788|\n",
      "+-------+--------------------+---------+-----+--------------------+--------------+--------------------+-----------------+\n",
      "\n"
     ]
    }
   ],
   "source": [
    "data.describe().show()"
   ]
  },
  {
   "cell_type": "markdown",
   "metadata": {},
   "source": [
    "Visualiser la distribution (histogramme) de la variable 'Score', a partir d'un échantillon correspondant a 1% du jeu de données total nettoye dans les etapes precedentes"
   ]
  },
  {
   "cell_type": "code",
   "execution_count": 236,
   "metadata": {},
   "outputs": [],
   "source": [
    "data_sample = data.rdd.takeSample(False, int(0.1*data.count()), 1000)"
   ]
  },
  {
   "cell_type": "code",
   "execution_count": 240,
   "metadata": {},
   "outputs": [
    {
     "data": {
      "text/plain": [
       "(array([9.308e+03, 3.400e+01, 4.000e+00, 0.000e+00, 1.000e+00]),\n",
       " array([     0. , 139757.6, 279515.2, 419272.8, 559030.4, 698788. ]),\n",
       " <BarContainer object of 5 artists>)"
      ]
     },
     "execution_count": 240,
     "metadata": {},
     "output_type": "execute_result"
    },
    {
     "data": {
      "image/png": "[encoded data removed]",
      "text/plain": [
       "<Figure size 432x288 with 1 Axes>"
      ]
     },
     "metadata": {
      "needs_background": "light"
     },
     "output_type": "display_data"
    }
   ],
   "source": [
    "data_sample_df = pd.DataFrame(data_sample, columns = ['Hopital', 'Ville', 'Etat', 'NomMesure', 'IDMesure', 'Comparaison', 'Score'])\n",
    "import matplotlib.pyplot as plt\n",
    "plt.hist(data_sample_df['Score'], color = 'blue', edgecolor = 'black', bins = 5)"
   ]
  },
  {
   "cell_type": "markdown",
   "metadata": {},
   "source": [
    "## OPERATIONS SUR DES DATAFRAMES"
   ]
  },
  {
   "cell_type": "markdown",
   "metadata": {},
   "source": [
    "## Afficher les elements de base sur le Dataframe - Transformer le Dataframe en RDD"
   ]
  },
  {
   "cell_type": "code",
   "execution_count": 242,
   "metadata": {},
   "outputs": [
    {
     "name": "stdout",
     "output_type": "stream",
     "text": [
      "root\n",
      " |-- Hopital: string (nullable = true)\n",
      " |-- Ville: string (nullable = true)\n",
      " |-- Etat: string (nullable = true)\n",
      " |-- NomMesure: string (nullable = true)\n",
      " |-- IDMesure: string (nullable = true)\n",
      " |-- Comparaison: string (nullable = true)\n",
      " |-- Score: decimal(10,0) (nullable = true)\n",
      "\n"
     ]
    }
   ],
   "source": [
    "data.printSchema()"
   ]
  },
  {
   "cell_type": "code",
   "execution_count": 245,
   "metadata": {},
   "outputs": [
    {
     "name": "stdout",
     "output_type": "stream",
     "text": [
      "+--------------------+------+----+--------------------+---------------+--------------------+-----+\n",
      "|             Hopital| Ville|Etat|           NomMesure|       IDMesure|         Comparaison|Score|\n",
      "+--------------------+------+----+--------------------+---------------+--------------------+-----+\n",
      "|SOUTHEAST ALABAMA...|DOTHAN|  AL|CLABSI: Lower Con...| HAI_1_CI_LOWER|No Different than...|    0|\n",
      "|SOUTHEAST ALABAMA...|DOTHAN|  AL|CLABSI: Upper Con...| HAI_1_CI_UPPER|No Different than...|    3|\n",
      "|SOUTHEAST ALABAMA...|DOTHAN|  AL|CLABSI: Number of...|HAI_1_DOPC_DAYS|No Different than...| 1887|\n",
      "|SOUTHEAST ALABAMA...|DOTHAN|  AL|CLABSI: Predicted...|HAI_1_ELIGCASES|No Different than...|    2|\n",
      "|SOUTHEAST ALABAMA...|DOTHAN|  AL|CLABSI: Observed ...|HAI_1_NUMERATOR|No Different than...|    3|\n",
      "+--------------------+------+----+--------------------+---------------+--------------------+-----+\n",
      "only showing top 5 rows\n",
      "\n"
     ]
    }
   ],
   "source": [
    "data.show(5, truncate = True)"
   ]
  },
  {
   "cell_type": "code",
   "execution_count": 247,
   "metadata": {},
   "outputs": [
    {
     "data": {
      "text/plain": [
       "(7,\n",
       " ['Hopital', 'Ville', 'Etat', 'NomMesure', 'IDMesure', 'Comparaison', 'Score'])"
      ]
     },
     "execution_count": 247,
     "metadata": {},
     "output_type": "execute_result"
    }
   ],
   "source": [
    "len(data.columns), data.columns"
   ]
  },
  {
   "cell_type": "code",
   "execution_count": 248,
   "metadata": {},
   "outputs": [],
   "source": [
    "data_RDD = data.rdd"
   ]
  },
  {
   "cell_type": "markdown",
   "metadata": {},
   "source": [
    "## Réaliser des opérations de base sur le Dataframe"
   ]
  },
  {
   "cell_type": "markdown",
   "metadata": {},
   "source": [
    "Les valeurs moyennes et medianes de la variable 'Score'"
   ]
  },
  {
   "cell_type": "code",
   "execution_count": 278,
   "metadata": {},
   "outputs": [
    {
     "name": "stdout",
     "output_type": "stream",
     "text": [
      "[2.0]\n"
     ]
    }
   ],
   "source": [
    "median = data.approxQuantile('Score', [0.5], 0)\n",
    "print(median)\n",
    "# Median de la variable 'Score' est 2"
   ]
  },
  {
   "cell_type": "code",
   "execution_count": 279,
   "metadata": {},
   "outputs": [
    {
     "data": {
      "text/plain": [
       "[Row(avg(Score)=Decimal('3427.2101'))]"
      ]
     },
     "execution_count": 279,
     "metadata": {},
     "output_type": "execute_result"
    }
   ],
   "source": [
    "data.groupBy().mean('Score').collect()\n",
    "# Moyenne de la variable 'Score' est 3427.2101"
   ]
  },
  {
   "cell_type": "markdown",
   "metadata": {},
   "source": [
    "Afficher un dataframe avec le nombre de cas (i.e. lignes) et des statistiques sur la variable 'Score' (moyenne, mediane et variance), agrege/groupe par Etat"
   ]
  },
  {
   "cell_type": "code",
   "execution_count": 284,
   "metadata": {},
   "outputs": [],
   "source": [
    "row_count = int(data.count())"
   ]
  },
  {
   "cell_type": "code",
   "execution_count": 336,
   "metadata": {},
   "outputs": [
    {
     "name": "stdout",
     "output_type": "stream",
     "text": [
      "+----+----------+-----+--------------+\n",
      "|Etat|mean_Score|count|     var_Score|\n",
      "+----+----------+-----+--------------+\n",
      "|  NY| 5039.0567| 5196|8.2419061144E8|\n",
      "|  DE| 4188.8347|  246|6.6726447907E8|\n",
      "|  CT| 3902.8318| 1032|5.3084718839E8|\n",
      "|  NC| 3862.2798| 2682|5.1321461185E8|\n",
      "|  FL| 4075.2783| 6402|5.0516379757E8|\n",
      "|  MN| 4162.6497| 1098|4.9651692864E8|\n",
      "|  DC| 4428.1905|  300|4.9385943993E8|\n",
      "|  MI| 4035.6675| 2748|4.6981670905E8|\n",
      "|  MA| 4114.8655| 1896|4.6311006861E8|\n",
      "|  TN| 3463.6784| 2436|3.9533875955E8|\n",
      "|  AL| 3518.1325| 1836|3.8323929738E8|\n",
      "|  TX| 3460.3408| 7338|3.7286695094E8|\n",
      "|  NJ| 3855.6052| 2598|3.6440539928E8|\n",
      "|  KY| 3199.6339| 1692|3.5816418932E8|\n",
      "|  MD| 3737.1875| 1578|3.5651978132E8|\n",
      "|  PA| 3540.2833| 4566|3.4527108208E8|\n",
      "|  NV| 3989.2465|  726| 3.353707722E8|\n",
      "|  OH| 3397.0894| 4044|3.3509520516E8|\n",
      "|  MO| 3405.5443| 2130|3.3342069338E8|\n",
      "|  SC| 3456.4970| 1530|3.3029810226E8|\n",
      "+----+----------+-----+--------------+\n",
      "only showing top 20 rows\n",
      "\n"
     ]
    }
   ],
   "source": [
    "data_group_etat1 = data.groupby('Etat').agg(psf.avg('Score').alias('mean_Score'))\n",
    "data_group_etat2 = data.groupby('Etat').count().alias('num_lignes')\n",
    "data_group_etat3 = data.groupby('Etat').agg(psf.round(psf.var_samp(\"Score\"), 2).alias(\"var_Score\"))\n",
    "data_group_etat = data_group_etat1.join(data_group_etat2, [\"Etat\"]).join(data_group_etat3, [\"Etat\"]).sort(\"var_Score\", ascending = False).show()"
   ]
  },
  {
   "cell_type": "markdown",
   "metadata": {},
   "source": [
    "L'Etat a la plus grande dispersion des valeurs de 'Score'"
   ]
  },
  {
   "cell_type": "code",
   "execution_count": 337,
   "metadata": {},
   "outputs": [],
   "source": [
    "# C'est NY avec la variance de 8.241"
   ]
  },
  {
   "cell_type": "markdown",
   "metadata": {},
   "source": [
    "## Realiser des jointures entre plusieurs Dataframes"
   ]
  },
  {
   "cell_type": "markdown",
   "metadata": {},
   "source": [
    "Creer un nouveau Dataframe contenant uniquement les 5 Etats ayant le plus de cas (i.e. de lignes dans le Dataframe)"
   ]
  },
  {
   "cell_type": "code",
   "execution_count": 365,
   "metadata": {},
   "outputs": [],
   "source": [
    "data_group_etat_A = data.groupby('Etat').count().sort(\"count\", ascending = False)"
   ]
  },
  {
   "cell_type": "markdown",
   "metadata": {},
   "source": [
    "Creer un nouveau Dataframe contenant uniquement les valeurs de 'Score' superieures a la mediane"
   ]
  },
  {
   "cell_type": "code",
   "execution_count": 377,
   "metadata": {},
   "outputs": [],
   "source": [
    "data_group_etat_B = data.filter(data[\"Score\"] > median[0]).select(\"Etat\", \"Score\")"
   ]
  },
  {
   "cell_type": "markdown",
   "metadata": {},
   "source": [
    "Joindre ces 2 Dataframes et enlever les colonnes faisant doublon"
   ]
  },
  {
   "cell_type": "code",
   "execution_count": 381,
   "metadata": {},
   "outputs": [],
   "source": [
    "data_group_etat_final = data_group_etat_A.join(data_group_etat_B, [\"Etat\"])"
   ]
  },
  {
   "cell_type": "markdown",
   "metadata": {},
   "source": [
    "La taille du Dataframe obtenu par la jointure?"
   ]
  },
  {
   "cell_type": "code",
   "execution_count": 385,
   "metadata": {},
   "outputs": [
    {
     "data": {
      "text/plain": [
       "40192"
      ]
     },
     "execution_count": 385,
     "metadata": {},
     "output_type": "execute_result"
    }
   ],
   "source": [
    "data_group_etat_final.count()\n",
    "# Nombre de lignes: 40192"
   ]
  },
  {
   "cell_type": "code",
   "execution_count": 391,
   "metadata": {},
   "outputs": [
    {
     "data": {
      "text/plain": [
       "3"
      ]
     },
     "execution_count": 391,
     "metadata": {},
     "output_type": "execute_result"
    }
   ],
   "source": [
    "len(data_group_etat_final.columns)\n",
    "# Nombre de colonnes: 3"
   ]
  },
  {
   "cell_type": "markdown",
   "metadata": {},
   "source": [
    "## REQUETES AVEC SPARK SQL"
   ]
  },
  {
   "cell_type": "markdown",
   "metadata": {},
   "source": [
    "## Realiser des operations de base sur le Dataframe"
   ]
  },
  {
   "cell_type": "markdown",
   "metadata": {},
   "source": [
    "Les valeurs moyennes et medianes de la variable 'Score'"
   ]
  },
  {
   "cell_type": "code",
   "execution_count": 398,
   "metadata": {},
   "outputs": [
    {
     "name": "stdout",
     "output_type": "stream",
     "text": [
      "+----------+------------+\n",
      "|mean_Score|median_Score|\n",
      "+----------+------------+\n",
      "| 3427.2101|         2.0|\n",
      "+----------+------------+\n",
      "\n"
     ]
    }
   ],
   "source": [
    "data.registerTempTable(\"data_sql\")\n",
    "spark.sql(\"SELECT AVG(Score) mean_Score, PERCENTILE_APPROX(Score, 0.5) median_Score \\\n",
    "          FROM data_sql\").show()\n",
    "# la moyenne de Score: 3427.2101\n",
    "# Le median de Score: 2"
   ]
  },
  {
   "cell_type": "markdown",
   "metadata": {},
   "source": [
    "Afficher le resultat d'une requete SQL retournant avec le nombre de cas (i.e. lignes) et des statistiques sur la variable 'Score' (moyenne, mediane et variance), agrege/groupe par Etat, par ordre alphabetique croissant des Etats"
   ]
  },
  {
   "cell_type": "code",
   "execution_count": 400,
   "metadata": {},
   "outputs": [
    {
     "name": "stdout",
     "output_type": "stream",
     "text": [
      "+----+-------+----------+------------+--------------------+\n",
      "|Etat|num_cas|mean_Score|median_Score|      variance_Score|\n",
      "+----+-------+----------+------------+--------------------+\n",
      "|  AK|    216| 2010.6394|           2| 9.812803482104693E7|\n",
      "|  AL|   1836| 3518.1325|           2|  3.83239297376813E8|\n",
      "|  AR|   1122| 2762.0305|           2|1.7959849295281547E8|\n",
      "|  AZ|   1884| 3323.9032|           2| 2.734631132537582E8|\n",
      "|  CA|  10260| 3004.2803|           2|2.1112096654211372E8|\n",
      "|  CO|   1338| 2871.3696|           2|1.8651604669340706E8|\n",
      "|  CT|   1032| 3902.8318|           2|5.3084718839052814E8|\n",
      "|  DC|    300| 4428.1905|           2|4.9385943992946535E8|\n",
      "|  DE|    246| 4188.8347|           2| 6.672644790747026E8|\n",
      "|  FL|   6402| 4075.2783|           2|5.0516379756887835E8|\n",
      "|  GA|   2976| 3254.4164|           2| 2.800779913481029E8|\n",
      "|  GU|     18|  293.8824|           2|   543844.1102941177|\n",
      "|  HI|    402| 2844.9691|           2| 2.147487092031753E8|\n",
      "|  IA|    966| 2804.4252|           2| 2.377395164170802E8|\n",
      "|  ID|    378| 2670.3944|           2|1.6419946345400783E8|\n",
      "|  IL|   4320| 3167.1926|           2|2.5280761080133227E8|\n",
      "|  IN|   2370| 2967.7412|           2| 2.672521282593407E8|\n",
      "|  KS|    900| 2790.0688|           2|2.4237403311195186E8|\n",
      "|  KY|   1692| 3199.6339|           2|3.5816418932379156E8|\n",
      "|  LA|   1974| 2733.6243|           2|1.9888268691840348E8|\n",
      "+----+-------+----------+------------+--------------------+\n",
      "only showing top 20 rows\n",
      "\n"
     ]
    }
   ],
   "source": [
    "spark.sql(\"SELECT Etat, COUNT(Etat) num_cas, AVG(Score) mean_Score, PERCENTILE_APPROX(Score, 0.5) median_Score, VAR_SAMP(Score) variance_Score \\\n",
    "           FROM data_sql \\\n",
    "           GROUP BY Etat \\\n",
    "           ORDER BY Etat ASC\").show()"
   ]
  },
  {
   "cell_type": "markdown",
   "metadata": {},
   "source": [
    "L'Etat a la plus grande dispersion des valeurs de 'Score'"
   ]
  },
  {
   "cell_type": "code",
   "execution_count": 402,
   "metadata": {},
   "outputs": [
    {
     "name": "stdout",
     "output_type": "stream",
     "text": [
      "+----+-------+----------+------------+--------------------+\n",
      "|Etat|num_cas|mean_Score|median_Score|      variance_Score|\n",
      "+----+-------+----------+------------+--------------------+\n",
      "|  NY|   5196| 5039.0567|           2| 8.241906114434166E8|\n",
      "|  DE|    246| 4188.8347|           2| 6.672644790747026E8|\n",
      "|  CT|   1032| 3902.8318|           2|5.3084718839052814E8|\n",
      "|  NC|   2682| 3862.2798|           2| 5.132146118547927E8|\n",
      "|  FL|   6402| 4075.2783|           2|5.0516379756887835E8|\n",
      "|  MN|   1098| 4162.6497|           2| 4.965169286387325E8|\n",
      "|  DC|    300| 4428.1905|           2|4.9385943992946535E8|\n",
      "|  MI|   2748| 4035.6675|           2| 4.698167090506595E8|\n",
      "|  MA|   1896| 4114.8655|           2|4.6311006860958654E8|\n",
      "|  TN|   2436| 3463.6784|           2|3.9533875954558563E8|\n",
      "|  AL|   1836| 3518.1325|           2|  3.83239297376813E8|\n",
      "|  TX|   7338| 3460.3408|           2| 3.728669509414615E8|\n",
      "|  NJ|   2598| 3855.6052|           2|3.6440539928009856E8|\n",
      "|  KY|   1692| 3199.6339|           2|3.5816418932379156E8|\n",
      "|  MD|   1578| 3737.1875|           2|3.5651978132235235E8|\n",
      "|  PA|   4566| 3540.2833|           2| 3.452710820834191E8|\n",
      "|  NV|    726| 3989.2465|           2|3.3537077220016533E8|\n",
      "|  OH|   4044| 3397.0894|           2| 3.350952051597081E8|\n",
      "|  MO|   2130| 3405.5443|           2| 3.334206933846563E8|\n",
      "|  SC|   1530| 3456.4970|           2|3.3029810225557345E8|\n",
      "+----+-------+----------+------------+--------------------+\n",
      "only showing top 20 rows\n",
      "\n"
     ]
    }
   ],
   "source": [
    "spark.sql(\"SELECT Etat, COUNT(Etat) num_cas, AVG(Score) mean_Score, PERCENTILE_APPROX(Score, 0.5) median_Score, VAR_SAMP(Score) variance_Score \\\n",
    "           FROM data_sql \\\n",
    "           GROUP BY Etat \\\n",
    "           ORDER BY variance_Score DESC\").show()\n",
    "\n",
    "# C'est NY avec variance de 8.24"
   ]
  },
  {
   "cell_type": "markdown",
   "metadata": {},
   "source": [
    "## Realiser des jointures avec une requete SQL"
   ]
  },
  {
   "cell_type": "markdown",
   "metadata": {},
   "source": [
    "Creer un nouveau Dataframe contenant uniquement les 5 Etats ayant le plus de cas (i.e. de lignes dans le Dataframe)"
   ]
  },
  {
   "cell_type": "code",
   "execution_count": 404,
   "metadata": {},
   "outputs": [
    {
     "name": "stdout",
     "output_type": "stream",
     "text": [
      "+----+-------+\n",
      "|Etat|num_cas|\n",
      "+----+-------+\n",
      "|  CA|  10260|\n",
      "|  TX|   7338|\n",
      "|  FL|   6402|\n",
      "|  NY|   5196|\n",
      "|  PA|   4566|\n",
      "+----+-------+\n",
      "\n"
     ]
    }
   ],
   "source": [
    "data_sql_1 = spark.sql(\"SELECT Etat, COUNT(Etat) num_cas \\\n",
    "          FROM data_sql \\\n",
    "          GROUP BY Etat \\\n",
    "          ORDER BY num_cas DESC \\\n",
    "          LIMIT 5\")"
   ]
  },
  {
   "cell_type": "markdown",
   "metadata": {},
   "source": [
    "Creer un nouveau Dataframe contenant uniquement les valeurs de 'Score' superieures a la mediane"
   ]
  },
  {
   "cell_type": "code",
   "execution_count": 408,
   "metadata": {},
   "outputs": [],
   "source": [
    "data_sql_2 = spark.sql(\"SELECT Etat, Score \\\n",
    "                       FROM data_sql \\\n",
    "                       WHERE Score > (SELECT PERCENTILE_APPROX(Score, 0.5) FROM data_sql)\"\n",
    ")"
   ]
  },
  {
   "cell_type": "markdown",
   "metadata": {},
   "source": [
    "Joindre ces 2 Dataframes et enlever les colonnes faisant doublon"
   ]
  },
  {
   "cell_type": "code",
   "execution_count": 412,
   "metadata": {},
   "outputs": [
    {
     "name": "stdout",
     "output_type": "stream",
     "text": [
      "+----+-------+----+-----+\n",
      "|Etat|num_cas|Etat|Score|\n",
      "+----+-------+----+-----+\n",
      "|  CA|  10260|  CA|    4|\n",
      "|  CA|  10260|  CA| 1051|\n",
      "|  CA|  10260|  CA|    3|\n",
      "|  CA|  10260|  CA| 1621|\n",
      "|  CA|  10260|  CA|    3|\n",
      "|  CA|  10260|  CA| 1694|\n",
      "|  CA|  10260|  CA| 2614|\n",
      "|  CA|  10260|  CA|    3|\n",
      "|  CA|  10260|  CA|    3|\n",
      "|  CA|  10260|  CA|    6|\n",
      "|  CA|  10260|  CA|   32|\n",
      "|  CA|  10260|  CA|    4|\n",
      "|  CA|  10260|  CA|30845|\n",
      "|  CA|  10260|  CA|    3|\n",
      "|  CA|  10260|  CA|29092|\n",
      "|  CA|  10260|  CA|   21|\n",
      "|  CA|  10260|  CA|   43|\n",
      "|  CA|  10260|  CA|    3|\n",
      "|  CA|  10260|  CA|  804|\n",
      "|  CA|  10260|  CA| 1101|\n",
      "+----+-------+----+-----+\n",
      "only showing top 20 rows\n",
      "\n"
     ]
    }
   ],
   "source": [
    "data_sql_1.registerTempTable(\"data_sql_1\")\n",
    "data_sql_2.registerTempTable(\"data_sql_2\")\n",
    "data_sql_final = spark.sql(\"SELECT * \\\n",
    "                  FROM data_sql_1 INNER JOIN data_sql_2 ON data_sql_1.Etat = data_sql_2.Etat\")\n",
    "data_sql_final.show()"
   ]
  },
  {
   "cell_type": "markdown",
   "metadata": {},
   "source": [
    "La taille du Dataframe obtenu par la jointure SQL"
   ]
  },
  {
   "cell_type": "code",
   "execution_count": 414,
   "metadata": {},
   "outputs": [
    {
     "data": {
      "text/plain": [
       "4"
      ]
     },
     "execution_count": 414,
     "metadata": {},
     "output_type": "execute_result"
    }
   ],
   "source": [
    "len(data_sql_final.columns)\n",
    "# Nombre de colonnes: 4"
   ]
  },
  {
   "cell_type": "code",
   "execution_count": 415,
   "metadata": {},
   "outputs": [
    {
     "data": {
      "text/plain": [
       "14329"
      ]
     },
     "execution_count": 415,
     "metadata": {},
     "output_type": "execute_result"
    }
   ],
   "source": [
    "data_sql_final.count()\n",
    "# Nombre de lignes: 14329"
   ]
  }
 ],
 "metadata": {
  "kernelspec": {
   "display_name": "Python 3",
   "language": "python",
   "name": "python3"
  },
  "language_info": {
   "codemirror_mode": {
    "name": "ipython",
    "version": 3
   },
   "file_extension": ".py",
   "mimetype": "text/x-python",
   "name": "python",
   "nbconvert_exporter": "python",
   "pygments_lexer": "ipython3",
   "version": "3.8.5"
  }
 },
 "nbformat": 4,
 "nbformat_minor": 2
}
